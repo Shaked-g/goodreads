{
 "cells": [
  {
   "cell_type": "code",
   "execution_count": 193,
   "metadata": {},
   "outputs": [],
   "source": [
    "import seaborn as sns\n",
    "import matplotlib.pyplot as plt\n",
    "import numpy as np\n",
    "import pandas as pd\n",
    "import scipy.stats as stats\n",
    "%matplotlib inline\n",
    "\n",
    "from sklearn import preprocessing\n",
    "from sklearn.metrics import classification_report, confusion_matrix\n",
    "from sklearn.model_selection import train_test_split\n",
    "from IPython.display import Image\n",
    "import sklearn \n"
   ]
  },
  {
   "cell_type": "code",
   "execution_count": 194,
   "metadata": {},
   "outputs": [],
   "source": [
    "reads = pd.read_csv(\"books.csv\")"
   ]
  },
  {
   "cell_type": "markdown",
   "metadata": {},
   "source": [
    "# Data Overview"
   ]
  },
  {
   "cell_type": "code",
   "execution_count": 195,
   "metadata": {},
   "outputs": [
    {
     "data": {
      "text/html": [
       "<div>\n",
       "<style scoped>\n",
       "    .dataframe tbody tr th:only-of-type {\n",
       "        vertical-align: middle;\n",
       "    }\n",
       "\n",
       "    .dataframe tbody tr th {\n",
       "        vertical-align: top;\n",
       "    }\n",
       "\n",
       "    .dataframe thead th {\n",
       "        text-align: right;\n",
       "    }\n",
       "</style>\n",
       "<table border=\"1\" class=\"dataframe\">\n",
       "  <thead>\n",
       "    <tr style=\"text-align: right;\">\n",
       "      <th></th>\n",
       "      <th>bookID</th>\n",
       "      <th>title</th>\n",
       "      <th>authors</th>\n",
       "      <th>average_rating</th>\n",
       "      <th>isbn</th>\n",
       "      <th>isbn13</th>\n",
       "      <th>language_code</th>\n",
       "      <th># num_pages</th>\n",
       "      <th>ratings_count</th>\n",
       "      <th>text_reviews_count</th>\n",
       "      <th>Unnamed: 10</th>\n",
       "    </tr>\n",
       "  </thead>\n",
       "  <tbody>\n",
       "    <tr>\n",
       "      <th>0</th>\n",
       "      <td>1</td>\n",
       "      <td>Harry Potter and the Half-Blood Prince (Harry ...</td>\n",
       "      <td>J.K. Rowling-Mary GrandPré</td>\n",
       "      <td>4.56</td>\n",
       "      <td>439785960</td>\n",
       "      <td>9.780000e+12</td>\n",
       "      <td>eng</td>\n",
       "      <td>652</td>\n",
       "      <td>1944099</td>\n",
       "      <td>26249</td>\n",
       "      <td>NaN</td>\n",
       "    </tr>\n",
       "    <tr>\n",
       "      <th>1</th>\n",
       "      <td>2</td>\n",
       "      <td>Harry Potter and the Order of the Phoenix (Har...</td>\n",
       "      <td>J.K. Rowling-Mary GrandPré</td>\n",
       "      <td>4.49</td>\n",
       "      <td>439358078</td>\n",
       "      <td>9.780000e+12</td>\n",
       "      <td>eng</td>\n",
       "      <td>870</td>\n",
       "      <td>1996446</td>\n",
       "      <td>27613</td>\n",
       "      <td>NaN</td>\n",
       "    </tr>\n",
       "    <tr>\n",
       "      <th>2</th>\n",
       "      <td>3</td>\n",
       "      <td>Harry Potter and the Sorcerer's Stone (Harry P...</td>\n",
       "      <td>J.K. Rowling-Mary GrandPré</td>\n",
       "      <td>4.47</td>\n",
       "      <td>439554934</td>\n",
       "      <td>9.780000e+12</td>\n",
       "      <td>eng</td>\n",
       "      <td>320</td>\n",
       "      <td>5629932</td>\n",
       "      <td>70390</td>\n",
       "      <td>NaN</td>\n",
       "    </tr>\n",
       "    <tr>\n",
       "      <th>3</th>\n",
       "      <td>4</td>\n",
       "      <td>Harry Potter and the Chamber of Secrets (Harry...</td>\n",
       "      <td>J.K. Rowling</td>\n",
       "      <td>4.41</td>\n",
       "      <td>439554896</td>\n",
       "      <td>9.780000e+12</td>\n",
       "      <td>eng</td>\n",
       "      <td>352</td>\n",
       "      <td>6267</td>\n",
       "      <td>272</td>\n",
       "      <td>NaN</td>\n",
       "    </tr>\n",
       "    <tr>\n",
       "      <th>4</th>\n",
       "      <td>5</td>\n",
       "      <td>Harry Potter and the Prisoner of Azkaban (Harr...</td>\n",
       "      <td>J.K. Rowling-Mary GrandPré</td>\n",
       "      <td>4.55</td>\n",
       "      <td>043965548X</td>\n",
       "      <td>9.780000e+12</td>\n",
       "      <td>eng</td>\n",
       "      <td>435</td>\n",
       "      <td>2149872</td>\n",
       "      <td>33964</td>\n",
       "      <td>NaN</td>\n",
       "    </tr>\n",
       "  </tbody>\n",
       "</table>\n",
       "</div>"
      ],
      "text/plain": [
       "   bookID                                              title  \\\n",
       "0       1  Harry Potter and the Half-Blood Prince (Harry ...   \n",
       "1       2  Harry Potter and the Order of the Phoenix (Har...   \n",
       "2       3  Harry Potter and the Sorcerer's Stone (Harry P...   \n",
       "3       4  Harry Potter and the Chamber of Secrets (Harry...   \n",
       "4       5  Harry Potter and the Prisoner of Azkaban (Harr...   \n",
       "\n",
       "                      authors average_rating        isbn        isbn13  \\\n",
       "0  J.K. Rowling-Mary GrandPré           4.56   439785960  9.780000e+12   \n",
       "1  J.K. Rowling-Mary GrandPré           4.49   439358078  9.780000e+12   \n",
       "2  J.K. Rowling-Mary GrandPré           4.47   439554934  9.780000e+12   \n",
       "3                J.K. Rowling           4.41   439554896  9.780000e+12   \n",
       "4  J.K. Rowling-Mary GrandPré           4.55  043965548X  9.780000e+12   \n",
       "\n",
       "  language_code # num_pages  ratings_count  text_reviews_count  Unnamed: 10  \n",
       "0           eng         652        1944099               26249          NaN  \n",
       "1           eng         870        1996446               27613          NaN  \n",
       "2           eng         320        5629932               70390          NaN  \n",
       "3           eng         352           6267                 272          NaN  \n",
       "4           eng         435        2149872               33964          NaN  "
      ]
     },
     "execution_count": 195,
     "metadata": {},
     "output_type": "execute_result"
    }
   ],
   "source": [
    "reads.head()"
   ]
  },
  {
   "cell_type": "code",
   "execution_count": 196,
   "metadata": {},
   "outputs": [
    {
     "data": {
      "text/plain": [
       "(13716, 11)"
      ]
     },
     "execution_count": 196,
     "metadata": {},
     "output_type": "execute_result"
    }
   ],
   "source": [
    "reads.shape"
   ]
  },
  {
   "cell_type": "markdown",
   "metadata": {},
   "source": [
    "### Columns Description:\n",
    "<b>bookID</b> Contains the unique ID for each book/series.\n",
    " \n",
    "<b>title</b> contains the titles of the books.\n",
    "\n",
    "<b>authors</b> contains the author of the particular book.\n",
    "\n",
    "<b>average_rating</b> the average rating of the books, as decided by the users.\n",
    "\n",
    "<b>ISBN ISBN(10)</b> number, tells the information about a book - such as edition and publisher.\n",
    "\n",
    "<b>ISBN 13</b> The new format for ISBN, implemented in 2007. 13 digits.\n",
    "\n",
    "<b>language_code</b> Tells the language for the books.\n",
    "\n",
    "<b>Num_pages</b> Contains the number of pages for the book.\n",
    "\n",
    "<b>Ratings_count</b> Contains the number of ratings given for the book.\n",
    "\n",
    "<b>text_reviews_count</b> Has the count of reviews left by users.\n"
   ]
  },
  {
   "cell_type": "code",
   "execution_count": 197,
   "metadata": {},
   "outputs": [
    {
     "data": {
      "text/plain": [
       "bookID                  int64\n",
       "title                  object\n",
       "authors                object\n",
       "average_rating         object\n",
       "isbn                   object\n",
       "isbn13                float64\n",
       "language_code          object\n",
       "# num_pages            object\n",
       "ratings_count           int64\n",
       "text_reviews_count      int64\n",
       "Unnamed: 10           float64\n",
       "dtype: object"
      ]
     },
     "execution_count": 197,
     "metadata": {},
     "output_type": "execute_result"
    }
   ],
   "source": [
    "reads.dtypes\n",
    "#already we can see that we will need to convert a few coulmns "
   ]
  },
  {
   "cell_type": "code",
   "execution_count": 198,
   "metadata": {},
   "outputs": [
    {
     "name": "stdout",
     "output_type": "stream",
     "text": [
      "<class 'pandas.core.frame.DataFrame'>\n",
      "RangeIndex: 13716 entries, 0 to 13715\n",
      "Data columns (total 11 columns):\n",
      " #   Column              Non-Null Count  Dtype  \n",
      "---  ------              --------------  -----  \n",
      " 0   bookID              13716 non-null  int64  \n",
      " 1   title               13716 non-null  object \n",
      " 2   authors             13716 non-null  object \n",
      " 3   average_rating      13716 non-null  object \n",
      " 4   isbn                13716 non-null  object \n",
      " 5   isbn13              13716 non-null  float64\n",
      " 6   language_code       13716 non-null  object \n",
      " 7   # num_pages         13716 non-null  object \n",
      " 8   ratings_count       13716 non-null  int64  \n",
      " 9   text_reviews_count  13716 non-null  int64  \n",
      " 10  Unnamed: 10         1 non-null      float64\n",
      "dtypes: float64(2), int64(3), object(6)\n",
      "memory usage: 1.2+ MB\n"
     ]
    }
   ],
   "source": [
    "reads.info()"
   ]
  },
  {
   "cell_type": "code",
   "execution_count": 199,
   "metadata": {},
   "outputs": [
    {
     "data": {
      "text/plain": [
       "False"
      ]
     },
     "execution_count": 199,
     "metadata": {},
     "output_type": "execute_result"
    }
   ],
   "source": [
    "#cheacking if there are any duplicates in our data\n",
    "reads.duplicated().any()"
   ]
  },
  {
   "cell_type": "code",
   "execution_count": 200,
   "metadata": {},
   "outputs": [
    {
     "data": {
      "text/plain": [
       "bookID                    0\n",
       "title                     0\n",
       "authors                   0\n",
       "average_rating            0\n",
       "isbn                      0\n",
       "isbn13                    0\n",
       "language_code             0\n",
       "# num_pages               0\n",
       "ratings_count             0\n",
       "text_reviews_count        0\n",
       "Unnamed: 10           13715\n",
       "dtype: int64"
      ]
     },
     "execution_count": 200,
     "metadata": {},
     "output_type": "execute_result"
    }
   ],
   "source": [
    "#checking how many nulls we have in our data\n",
    "reads.isnull().sum(axis=0)"
   ]
  },
  {
   "cell_type": "markdown",
   "metadata": {},
   "source": [
    "# Data Cleaning"
   ]
  },
  {
   "cell_type": "code",
   "execution_count": 201,
   "metadata": {},
   "outputs": [
    {
     "data": {
      "text/html": [
       "<div>\n",
       "<style scoped>\n",
       "    .dataframe tbody tr th:only-of-type {\n",
       "        vertical-align: middle;\n",
       "    }\n",
       "\n",
       "    .dataframe tbody tr th {\n",
       "        vertical-align: top;\n",
       "    }\n",
       "\n",
       "    .dataframe thead th {\n",
       "        text-align: right;\n",
       "    }\n",
       "</style>\n",
       "<table border=\"1\" class=\"dataframe\">\n",
       "  <thead>\n",
       "    <tr style=\"text-align: right;\">\n",
       "      <th></th>\n",
       "      <th>bookID</th>\n",
       "      <th>title</th>\n",
       "      <th>authors</th>\n",
       "      <th>average_rating</th>\n",
       "      <th>isbn</th>\n",
       "      <th>isbn13</th>\n",
       "      <th>language_code</th>\n",
       "      <th># num_pages</th>\n",
       "      <th>ratings_count</th>\n",
       "      <th>text_reviews_count</th>\n",
       "      <th>Unnamed: 10</th>\n",
       "    </tr>\n",
       "  </thead>\n",
       "  <tbody>\n",
       "    <tr>\n",
       "      <th>5686</th>\n",
       "      <td>16914</td>\n",
       "      <td>The Tolkien Fan's Medieval Reader</td>\n",
       "      <td>David E. Smith (Turgon of TheOneRing.net</td>\n",
       "      <td>one of the founding members of this Tolkien w...</td>\n",
       "      <td>3.6</td>\n",
       "      <td>1.593600e+09</td>\n",
       "      <td>9.78E+12</td>\n",
       "      <td>eng</td>\n",
       "      <td>400</td>\n",
       "      <td>25</td>\n",
       "      <td>4.0</td>\n",
       "    </tr>\n",
       "  </tbody>\n",
       "</table>\n",
       "</div>"
      ],
      "text/plain": [
       "      bookID                              title  \\\n",
       "5686   16914  The Tolkien Fan's Medieval Reader   \n",
       "\n",
       "                                       authors  \\\n",
       "5686  David E. Smith (Turgon of TheOneRing.net   \n",
       "\n",
       "                                         average_rating isbn        isbn13  \\\n",
       "5686   one of the founding members of this Tolkien w...  3.6  1.593600e+09   \n",
       "\n",
       "     language_code # num_pages  ratings_count  text_reviews_count  Unnamed: 10  \n",
       "5686      9.78E+12         eng            400                  25          4.0  "
      ]
     },
     "execution_count": 201,
     "metadata": {},
     "output_type": "execute_result"
    }
   ],
   "source": [
    "#investigating why there is 1 non-null on column \"Unnamed: 10\"\n",
    "reads[reads['Unnamed: 10'].notnull()]\n"
   ]
  },
  {
   "cell_type": "code",
   "execution_count": 202,
   "metadata": {},
   "outputs": [],
   "source": [
    "# we can spare droping the troubling row\n",
    "reads =reads.drop(reads.index[5686])"
   ]
  },
  {
   "cell_type": "code",
   "execution_count": 203,
   "metadata": {},
   "outputs": [],
   "source": [
    "# fixing the duplicate in J.K Rowling that we spotted on the head of the data\n",
    "reads.replace(to_replace='J.K. Rowling-Mary GrandPré', value = 'J.K. Rowling', inplace=True)"
   ]
  },
  {
   "cell_type": "code",
   "execution_count": 204,
   "metadata": {
    "scrolled": true
   },
   "outputs": [
    {
     "data": {
      "text/plain": [
       "array(['eng', 'en-US', 'spa', 'fre', 'en-GB', 'mul', 'ger', 'ara', 'por',\n",
       "       'grc', 'en-CA', 'enm', 'jpn', 'dan', 'zho', 'nl', 'ita', 'lat',\n",
       "       'srp', 'rus', 'tur', 'msa', 'swe', 'glg', 'cat', 'wel', 'heb',\n",
       "       'nor', 'gla', 'ale'], dtype=object)"
      ]
     },
     "execution_count": 204,
     "metadata": {},
     "output_type": "execute_result"
    }
   ],
   "source": [
    "reads['language_code'].unique()\n",
    "#making sure there would be no confusioun with the bookID while applaying the machine learning"
   ]
  },
  {
   "cell_type": "code",
   "execution_count": 205,
   "metadata": {},
   "outputs": [
    {
     "data": {
      "text/html": [
       "<div>\n",
       "<style scoped>\n",
       "    .dataframe tbody tr th:only-of-type {\n",
       "        vertical-align: middle;\n",
       "    }\n",
       "\n",
       "    .dataframe tbody tr th {\n",
       "        vertical-align: top;\n",
       "    }\n",
       "\n",
       "    .dataframe thead th {\n",
       "        text-align: right;\n",
       "    }\n",
       "</style>\n",
       "<table border=\"1\" class=\"dataframe\">\n",
       "  <thead>\n",
       "    <tr style=\"text-align: right;\">\n",
       "      <th></th>\n",
       "      <th>bookID</th>\n",
       "      <th>title</th>\n",
       "      <th>authors</th>\n",
       "      <th>average_rating</th>\n",
       "      <th>isbn</th>\n",
       "      <th>isbn13</th>\n",
       "      <th>language_code</th>\n",
       "      <th># num_pages</th>\n",
       "      <th>ratings_count</th>\n",
       "      <th>text_reviews_count</th>\n",
       "      <th>Unnamed: 10</th>\n",
       "    </tr>\n",
       "  </thead>\n",
       "  <tbody>\n",
       "    <tr>\n",
       "      <th>0</th>\n",
       "      <td>1</td>\n",
       "      <td>Harry Potter and the Half-Blood Prince (Harry ...</td>\n",
       "      <td>J.K. Rowling</td>\n",
       "      <td>4.56</td>\n",
       "      <td>439785960</td>\n",
       "      <td>9.780000e+12</td>\n",
       "      <td>eng</td>\n",
       "      <td>652</td>\n",
       "      <td>1944099</td>\n",
       "      <td>26249</td>\n",
       "      <td>NaN</td>\n",
       "    </tr>\n",
       "    <tr>\n",
       "      <th>1</th>\n",
       "      <td>2</td>\n",
       "      <td>Harry Potter and the Order of the Phoenix (Har...</td>\n",
       "      <td>J.K. Rowling</td>\n",
       "      <td>4.49</td>\n",
       "      <td>439358078</td>\n",
       "      <td>9.780000e+12</td>\n",
       "      <td>eng</td>\n",
       "      <td>870</td>\n",
       "      <td>1996446</td>\n",
       "      <td>27613</td>\n",
       "      <td>NaN</td>\n",
       "    </tr>\n",
       "    <tr>\n",
       "      <th>2</th>\n",
       "      <td>3</td>\n",
       "      <td>Harry Potter and the Sorcerer's Stone (Harry P...</td>\n",
       "      <td>J.K. Rowling</td>\n",
       "      <td>4.47</td>\n",
       "      <td>439554934</td>\n",
       "      <td>9.780000e+12</td>\n",
       "      <td>eng</td>\n",
       "      <td>320</td>\n",
       "      <td>5629932</td>\n",
       "      <td>70390</td>\n",
       "      <td>NaN</td>\n",
       "    </tr>\n",
       "    <tr>\n",
       "      <th>3</th>\n",
       "      <td>4</td>\n",
       "      <td>Harry Potter and the Chamber of Secrets (Harry...</td>\n",
       "      <td>J.K. Rowling</td>\n",
       "      <td>4.41</td>\n",
       "      <td>439554896</td>\n",
       "      <td>9.780000e+12</td>\n",
       "      <td>eng</td>\n",
       "      <td>352</td>\n",
       "      <td>6267</td>\n",
       "      <td>272</td>\n",
       "      <td>NaN</td>\n",
       "    </tr>\n",
       "    <tr>\n",
       "      <th>4</th>\n",
       "      <td>5</td>\n",
       "      <td>Harry Potter and the Prisoner of Azkaban (Harr...</td>\n",
       "      <td>J.K. Rowling</td>\n",
       "      <td>4.55</td>\n",
       "      <td>043965548X</td>\n",
       "      <td>9.780000e+12</td>\n",
       "      <td>eng</td>\n",
       "      <td>435</td>\n",
       "      <td>2149872</td>\n",
       "      <td>33964</td>\n",
       "      <td>NaN</td>\n",
       "    </tr>\n",
       "  </tbody>\n",
       "</table>\n",
       "</div>"
      ],
      "text/plain": [
       "   bookID                                              title       authors  \\\n",
       "0       1  Harry Potter and the Half-Blood Prince (Harry ...  J.K. Rowling   \n",
       "1       2  Harry Potter and the Order of the Phoenix (Har...  J.K. Rowling   \n",
       "2       3  Harry Potter and the Sorcerer's Stone (Harry P...  J.K. Rowling   \n",
       "3       4  Harry Potter and the Chamber of Secrets (Harry...  J.K. Rowling   \n",
       "4       5  Harry Potter and the Prisoner of Azkaban (Harr...  J.K. Rowling   \n",
       "\n",
       "  average_rating        isbn        isbn13 language_code # num_pages  \\\n",
       "0           4.56   439785960  9.780000e+12           eng         652   \n",
       "1           4.49   439358078  9.780000e+12           eng         870   \n",
       "2           4.47   439554934  9.780000e+12           eng         320   \n",
       "3           4.41   439554896  9.780000e+12           eng         352   \n",
       "4           4.55  043965548X  9.780000e+12           eng         435   \n",
       "\n",
       "   ratings_count  text_reviews_count  Unnamed: 10  \n",
       "0        1944099               26249          NaN  \n",
       "1        1996446               27613          NaN  \n",
       "2        5629932               70390          NaN  \n",
       "3           6267                 272          NaN  \n",
       "4        2149872               33964          NaN  "
      ]
     },
     "execution_count": 205,
     "metadata": {},
     "output_type": "execute_result"
    }
   ],
   "source": [
    "reads.head()"
   ]
  },
  {
   "cell_type": "markdown",
   "metadata": {},
   "source": [
    "# Data Adjusting"
   ]
  },
  {
   "cell_type": "code",
   "execution_count": 206,
   "metadata": {},
   "outputs": [],
   "source": [
    "\n",
    "#Dropping irrelevant columns to the project ( including title and authors so not to confuse the model)\n",
    "\n",
    "# else could have done to transform \n",
    "#le = preprocessing.LabelEncoder()\n",
    "#reads['title'] = le.fit_transform(reads['title'])\n",
    "\n",
    "\n",
    "reads = reads.drop(columns=['title','authors','Unnamed: 10','isbn', 'isbn13','bookID'])\n"
   ]
  },
  {
   "cell_type": "code",
   "execution_count": 207,
   "metadata": {},
   "outputs": [
    {
     "data": {
      "text/html": [
       "<div>\n",
       "<style scoped>\n",
       "    .dataframe tbody tr th:only-of-type {\n",
       "        vertical-align: middle;\n",
       "    }\n",
       "\n",
       "    .dataframe tbody tr th {\n",
       "        vertical-align: top;\n",
       "    }\n",
       "\n",
       "    .dataframe thead th {\n",
       "        text-align: right;\n",
       "    }\n",
       "</style>\n",
       "<table border=\"1\" class=\"dataframe\">\n",
       "  <thead>\n",
       "    <tr style=\"text-align: right;\">\n",
       "      <th></th>\n",
       "      <th>average_rating</th>\n",
       "      <th>language_code</th>\n",
       "      <th># num_pages</th>\n",
       "      <th>ratings_count</th>\n",
       "      <th>text_reviews_count</th>\n",
       "    </tr>\n",
       "  </thead>\n",
       "  <tbody>\n",
       "    <tr>\n",
       "      <th>0</th>\n",
       "      <td>4.56</td>\n",
       "      <td>eng</td>\n",
       "      <td>652</td>\n",
       "      <td>1944099</td>\n",
       "      <td>26249</td>\n",
       "    </tr>\n",
       "    <tr>\n",
       "      <th>1</th>\n",
       "      <td>4.49</td>\n",
       "      <td>eng</td>\n",
       "      <td>870</td>\n",
       "      <td>1996446</td>\n",
       "      <td>27613</td>\n",
       "    </tr>\n",
       "    <tr>\n",
       "      <th>2</th>\n",
       "      <td>4.47</td>\n",
       "      <td>eng</td>\n",
       "      <td>320</td>\n",
       "      <td>5629932</td>\n",
       "      <td>70390</td>\n",
       "    </tr>\n",
       "    <tr>\n",
       "      <th>3</th>\n",
       "      <td>4.41</td>\n",
       "      <td>eng</td>\n",
       "      <td>352</td>\n",
       "      <td>6267</td>\n",
       "      <td>272</td>\n",
       "    </tr>\n",
       "    <tr>\n",
       "      <th>4</th>\n",
       "      <td>4.55</td>\n",
       "      <td>eng</td>\n",
       "      <td>435</td>\n",
       "      <td>2149872</td>\n",
       "      <td>33964</td>\n",
       "    </tr>\n",
       "  </tbody>\n",
       "</table>\n",
       "</div>"
      ],
      "text/plain": [
       "  average_rating language_code # num_pages  ratings_count  text_reviews_count\n",
       "0           4.56           eng         652        1944099               26249\n",
       "1           4.49           eng         870        1996446               27613\n",
       "2           4.47           eng         320        5629932               70390\n",
       "3           4.41           eng         352           6267                 272\n",
       "4           4.55           eng         435        2149872               33964"
      ]
     },
     "execution_count": 207,
     "metadata": {},
     "output_type": "execute_result"
    }
   ],
   "source": [
    "reads.head()"
   ]
  },
  {
   "cell_type": "code",
   "execution_count": 208,
   "metadata": {},
   "outputs": [],
   "source": [
    "le = preprocessing.LabelEncoder()\n",
    "reads['language_code'] = le.fit_transform(reads['language_code'])\n",
    "\n",
    "# to transform back\n",
    "# reads['language_code']=le.inverse_transform(reads['language_code'])\n",
    "reads = pd.get_dummies(reads, columns=['language_code'])\n"
   ]
  },
  {
   "cell_type": "code",
   "execution_count": 209,
   "metadata": {},
   "outputs": [],
   "source": [
    "# Casting Obj to Int, float for rounding \n",
    "reads['# num_pages']=reads['# num_pages'].astype(int)\n",
    "reads['average_rating']=reads['average_rating'].astype(float)\n",
    "#reads['average_rating']=pd.to_numeric(reads['average_rating'],errors='coerce')\n"
   ]
  },
  {
   "cell_type": "code",
   "execution_count": 210,
   "metadata": {},
   "outputs": [],
   "source": [
    "#rounding the average rating, and casting from float to int\n",
    "reads['average_rating'] = reads['average_rating'].round()\n",
    "reads['average_rating']=reads['average_rating'].astype(int)\n",
    "#reads['average_rating']=reads['average_rating'].astype()\n"
   ]
  },
  {
   "cell_type": "code",
   "execution_count": 211,
   "metadata": {},
   "outputs": [
    {
     "name": "stdout",
     "output_type": "stream",
     "text": [
      "rating_categoris:  [5, 4, 3, 0, 2, 1]\n"
     ]
    }
   ],
   "source": [
    "rating_categoris =list(reads['average_rating'].unique())\n",
    "print (\"rating_categoris: \",rating_categoris)"
   ]
  },
  {
   "cell_type": "code",
   "execution_count": 212,
   "metadata": {},
   "outputs": [
    {
     "data": {
      "text/plain": [
       "4    12544\n",
       "3      872\n",
       "5      243\n",
       "0       34\n",
       "2       20\n",
       "1        2\n",
       "Name: average_rating, dtype: int64"
      ]
     },
     "execution_count": 212,
     "metadata": {},
     "output_type": "execute_result"
    }
   ],
   "source": [
    "#number of instances per rating category \n",
    "reads['average_rating'].value_counts()"
   ]
  },
  {
   "cell_type": "markdown",
   "metadata": {},
   "source": [
    "# Machine Learning Model\n"
   ]
  },
  {
   "cell_type": "code",
   "execution_count": 213,
   "metadata": {},
   "outputs": [],
   "source": [
    "y= reads['average_rating']\n",
    "X= reads.drop(['average_rating'],axis = 1)"
   ]
  },
  {
   "cell_type": "code",
   "execution_count": 214,
   "metadata": {},
   "outputs": [
    {
     "name": "stdout",
     "output_type": "stream",
     "text": [
      "(10972, 33) (10972,)\n",
      "(2743, 33) (2743,)\n"
     ]
    }
   ],
   "source": [
    "# y = Label(output) = average_rating\n",
    "# X = features(input) = language_codes, num_pages, ratings_count, text_reviews_count.  \n",
    "# also seeding the split in order to track the model \n",
    "\n",
    "X_train, X_test, y_train, y_test = train_test_split(X, y, test_size=0.2, random_state=42)\n",
    "\n",
    "print (X_train.shape, y_train.shape)\n",
    "print (X_test.shape, y_test.shape)"
   ]
  },
  {
   "cell_type": "markdown",
   "metadata": {},
   "source": [
    "# K-nearest neighbors\n",
    "The general idea behind K-nearest neighbors (KNN) is that data points are considered to belong to the class with which it shares the most number of common points in terms of its distance. K number of nearest points around the data point to be predicted are taken into consideration."
   ]
  },
  {
   "cell_type": "code",
   "execution_count": 215,
   "metadata": {},
   "outputs": [],
   "source": [
    "#importing the KNeighborsClassifier class from sklearn\n",
    "from sklearn.neighbors import KNeighborsClassifier\n",
    "\n",
    "# importing metric model to check the accuracy\n",
    "from sklearn import metrics\n",
    "#running from k=1 through 25 and record testing accuracy\n",
    "k_range = range(1,26)\n",
    "scores = {}\n",
    "scores_list = []\n",
    "for k in k_range:\n",
    "    knn = KNeighborsClassifier(n_neighbors=k)\n",
    "    knn.fit(X_train,y_train)\n",
    "    y_pred = knn.predict(X_test)\n",
    "    scores[k] = metrics.accuracy_score(y_test,y_pred)\n",
    "    scores_list.append(metrics.accuracy_score(y_test,y_pred))"
   ]
  },
  {
   "cell_type": "code",
   "execution_count": 216,
   "metadata": {},
   "outputs": [
    {
     "data": {
      "text/plain": [
       "0.911410864017499"
      ]
     },
     "execution_count": 216,
     "metadata": {},
     "output_type": "execute_result"
    },
    {
     "data": {
      "image/png": "[encoded data removed]",
      "text/plain": [
       "<Figure size 432x288 with 1 Axes>"
      ]
     },
     "metadata": {
      "needs_background": "light"
     },
     "output_type": "display_data"
    }
   ],
   "source": [
    "plt.plot(k_range,scores_list)\n",
    "plt.xlabel('Value of K for KNN')\n",
    "plt.ylabel('Testing Accuracy')\n",
    "plt.title('The relationship between K and the testing accuracy')\n",
    "scores[7]"
   ]
  },
  {
   "cell_type": "code",
   "execution_count": 217,
   "metadata": {},
   "outputs": [],
   "source": [
    "# i choose k=7 based on the Accuracy score\n",
    "knn = KNeighborsClassifier(n_neighbors=7)\n",
    "knn.fit(X_train,y_train)\n",
    "y_pred = knn.predict(X_test)"
   ]
  },
  {
   "cell_type": "code",
   "execution_count": 218,
   "metadata": {},
   "outputs": [
    {
     "name": "stdout",
     "output_type": "stream",
     "text": [
      "Accuracy Score : 0.911410864017499\n",
      "\n",
      "Confusion Matrix :\n",
      " [[   0    0    0    0   11    0]\n",
      " [   0    0    0    1    0    0]\n",
      " [   1    0    0    0    1    0]\n",
      " [   0    0    0    2  162    1]\n",
      " [   2    0    0   15 2498    0]\n",
      " [   0    0    0    1   48    0]]\n",
      "\n",
      "Report :\n",
      "               precision    recall  f1-score   support\n",
      "\n",
      "           0       0.00      0.00      0.00        11\n",
      "           1       0.00      0.00      0.00         1\n",
      "           2       0.00      0.00      0.00         2\n",
      "           3       0.11      0.01      0.02       165\n",
      "           4       0.92      0.99      0.95      2515\n",
      "           5       0.00      0.00      0.00        49\n",
      "\n",
      "    accuracy                           0.91      2743\n",
      "   macro avg       0.17      0.17      0.16      2743\n",
      "weighted avg       0.85      0.91      0.88      2743\n",
      "\n"
     ]
    },
    {
     "name": "stderr",
     "output_type": "stream",
     "text": [
      "C:\\Anaconda3\\lib\\site-packages\\sklearn\\metrics\\classification.py:1437: UndefinedMetricWarning: Precision and F-score are ill-defined and being set to 0.0 in labels with no predicted samples.\n",
      "  'precision', 'predicted', average, warn_for)\n"
     ]
    }
   ],
   "source": [
    "results = confusion_matrix(y_test, y_pred)\n",
    "\n",
    "print ('Accuracy Score :',metrics.accuracy_score(y_test, y_pred))\n",
    "\n",
    "print ('\\nConfusion Matrix :\\n',results)\n",
    "\n",
    "print ('\\nReport :\\n',metrics.classification_report(y_test, y_pred))"
   ]
  },
  {
   "cell_type": "markdown",
   "metadata": {},
   "source": [
    "### The Problem\n",
    " i have encountered a problem in the model which is that it dosent sample all classes in the same amount for the testing \n",
    " and therefor not able to predict them - the model is biased.\n",
    "\n",
    "\n",
    "i will try and rise the testing group to 30% \n",
    "in order to get more classes in the testing group.\n"
   ]
  },
  {
   "cell_type": "code",
   "execution_count": 219,
   "metadata": {},
   "outputs": [
    {
     "data": {
      "image/png": "[encoded data removed]",
      "text/plain": [
       "<IPython.core.display.Image object>"
      ]
     },
     "execution_count": 219,
     "metadata": {},
     "output_type": "execute_result"
    }
   ],
   "source": [
    "Image(\"resampling.png\")"
   ]
  },
  {
   "cell_type": "code",
   "execution_count": 220,
   "metadata": {},
   "outputs": [
    {
     "name": "stdout",
     "output_type": "stream",
     "text": [
      "(9600, 33) (9600,)\n",
      "(4115, 33) (4115,)\n"
     ]
    }
   ],
   "source": [
    "X_train, X_test, y_train, y_test = train_test_split(X, y, test_size=0.30, random_state=420)\n",
    "\n",
    "print (X_train.shape, y_train.shape)\n",
    "print (X_test.shape, y_test.shape)"
   ]
  },
  {
   "cell_type": "code",
   "execution_count": 221,
   "metadata": {},
   "outputs": [
    {
     "data": {
      "text/plain": [
       "Text(0.5, 1.0, 'The New relationship between K and the testing accuracy- 30% testing')"
      ]
     },
     "execution_count": 221,
     "metadata": {},
     "output_type": "execute_result"
    },
    {
     "data": {
      "image/png": "[encoded data removed]",
      "text/plain": [
       "<Figure size 432x288 with 1 Axes>"
      ]
     },
     "metadata": {
      "needs_background": "light"
     },
     "output_type": "display_data"
    }
   ],
   "source": [
    "k_range = range(1,26)\n",
    "scores = {}\n",
    "scores_list = []\n",
    "for k in k_range:\n",
    "    knn = KNeighborsClassifier(n_neighbors=k)\n",
    "    knn.fit(X_train,y_train)\n",
    "    y_pred = knn.predict(X_test)\n",
    "    scores[k] = metrics.accuracy_score(y_test,y_pred)\n",
    "    scores_list.append(metrics.accuracy_score(y_test,y_pred))\n",
    "    \n",
    "plt.plot(k_range,scores_list)\n",
    "plt.xlabel('Value of K for KNN')\n",
    "plt.ylabel('Testing Accuracy')\n",
    "plt.title('The New relationship between K and the testing accuracy- 30% testing')    "
   ]
  },
  {
   "cell_type": "code",
   "execution_count": 222,
   "metadata": {},
   "outputs": [
    {
     "name": "stdout",
     "output_type": "stream",
     "text": [
      "Accuracy Score :\n",
      " 0.9156743620899149\n",
      "Confusion Matrix :\n",
      " [[   1    0    0    0   13    0]\n",
      " [   0    0    0    0    1    0]\n",
      " [   0    0    0    0    4    0]\n",
      " [   0    0    0    5  258    0]\n",
      " [   0    0    0    7 3762    0]\n",
      " [   0    0    0    1   63    0]]\n",
      "Report :\n",
      "               precision    recall  f1-score   support\n",
      "\n",
      "           0       1.00      0.07      0.13        14\n",
      "           1       0.00      0.00      0.00         1\n",
      "           2       0.00      0.00      0.00         4\n",
      "           3       0.38      0.02      0.04       263\n",
      "           4       0.92      1.00      0.96      3769\n",
      "           5       0.00      0.00      0.00        64\n",
      "\n",
      "    accuracy                           0.92      4115\n",
      "   macro avg       0.38      0.18      0.19      4115\n",
      "weighted avg       0.87      0.92      0.88      4115\n",
      "\n"
     ]
    },
    {
     "name": "stderr",
     "output_type": "stream",
     "text": [
      "C:\\Anaconda3\\lib\\site-packages\\sklearn\\metrics\\classification.py:1437: UndefinedMetricWarning: Precision and F-score are ill-defined and being set to 0.0 in labels with no predicted samples.\n",
      "  'precision', 'predicted', average, warn_for)\n"
     ]
    }
   ],
   "source": [
    "# i choose k=7 based on the Accuracy score\n",
    "knn = KNeighborsClassifier(n_neighbors=7)\n",
    "knn.fit(X_train,y_train)\n",
    "y_pred = knn.predict(X_test)\n",
    "\n",
    "results2 = confusion_matrix(y_test, y_pred)\n",
    "\n",
    "print ('Accuracy Score :\\n',metrics.accuracy_score(y_test, y_pred))\n",
    "\n",
    "print ('Confusion Matrix :\\n',results2)\n",
    "\n",
    "print ('Report :\\n',metrics.classification_report(y_test, y_pred))"
   ]
  },
  {
   "cell_type": "code",
   "execution_count": 223,
   "metadata": {},
   "outputs": [
    {
     "data": {
      "image/png": "[encoded data removed]",
      "text/plain": [
       "<IPython.core.display.Image object>"
      ]
     },
     "execution_count": 223,
     "metadata": {},
     "output_type": "execute_result"
    }
   ],
   "source": [
    "# Confusion Matrix Index reminder\n",
    "from IPython.display import Image\n",
    "Image(\"confusion matrix.png\")"
   ]
  },
  {
   "cell_type": "code",
   "execution_count": 224,
   "metadata": {},
   "outputs": [
    {
     "data": {
      "image/png": "[encoded data removed]",
      "text/plain": [
       "<Figure size 720x432 with 2 Axes>"
      ]
     },
     "metadata": {
      "needs_background": "light"
     },
     "output_type": "display_data"
    }
   ],
   "source": [
    "f,ax=plt.subplots(figsize=(10,6))\n",
    "sns.heatmap(results2,annot=True,linewidth=0.5,linecolor=\"red\",fmt=\".1f\",ax=ax)\n",
    "\n",
    "bottom, top = ax.get_ylim()\n",
    "ax.set_ylim(bottom + 0.5, top - 0.51)\n",
    "ax.set_title('30% Split KNN Classifier Heatmap')\n",
    "\n",
    "plt.show()"
   ]
  },
  {
   "cell_type": "markdown",
   "metadata": {},
   "source": [
    "## Random Forest\n",
    "### reasons to use Random Forest method:\n",
    "*It does not suffer from the overfitting problem. The main reason is that it takes the average of all the predictions, which cancels out the biases.\n",
    "\n",
    "*The algorithm can be used in both classification and regression problems.\n",
    "\n",
    "*You can get the relative feature importance, which helps in selecting the most contributing features for the classifier.\n"
   ]
  },
  {
   "cell_type": "code",
   "execution_count": 225,
   "metadata": {},
   "outputs": [],
   "source": [
    "X_train, X_test, y_train, y_test = train_test_split(X, y, test_size=0.40, random_state=666)"
   ]
  },
  {
   "cell_type": "code",
   "execution_count": 226,
   "metadata": {},
   "outputs": [
    {
     "name": "stdout",
     "output_type": "stream",
     "text": [
      "Accuracy Random Forest: 0.907765220561429\n",
      "Confusion Matrix :\n",
      " [[   6    0    2    1    5    1]\n",
      " [   0    0    0    0    2    0]\n",
      " [   0    0    0    0    8    0]\n",
      " [   0    0    1   11  341    2]\n",
      " [   0    0    2   35 4955   15]\n",
      " [   0    0    0    2   89    8]]\n",
      "Report :\n",
      "               precision    recall  f1-score   support\n",
      "\n",
      "           0       1.00      0.40      0.57        15\n",
      "           1       0.00      0.00      0.00         2\n",
      "           2       0.00      0.00      0.00         8\n",
      "           3       0.22      0.03      0.05       355\n",
      "           4       0.92      0.99      0.95      5007\n",
      "           5       0.31      0.08      0.13        99\n",
      "\n",
      "    accuracy                           0.91      5486\n",
      "   macro avg       0.41      0.25      0.28      5486\n",
      "weighted avg       0.86      0.91      0.88      5486\n",
      "\n"
     ]
    },
    {
     "name": "stderr",
     "output_type": "stream",
     "text": [
      "C:\\Anaconda3\\lib\\site-packages\\sklearn\\metrics\\classification.py:1437: UndefinedMetricWarning: Precision and F-score are ill-defined and being set to 0.0 in labels with no predicted samples.\n",
      "  'precision', 'predicted', average, warn_for)\n"
     ]
    }
   ],
   "source": [
    "#Import Random Forest Model\n",
    "from sklearn.ensemble import RandomForestClassifier\n",
    "\n",
    "#Create a Gaussian Classifier\n",
    "clf=RandomForestClassifier(n_estimators=100,class_weight=\"balanced\")\n",
    "\n",
    "#Train the model using the training sets y_pred=clf.predict(X_test)\n",
    "clf.fit(X_train,y_train)\n",
    "\n",
    "y_pred=clf.predict(X_test)\n",
    "print(\"Accuracy Random Forest:\",metrics.accuracy_score(y_test, y_pred))\n",
    "\n",
    "results3 = confusion_matrix(y_test, y_pred)\n",
    "\n",
    "print ('Confusion Matrix :\\n',results3)\n",
    "\n",
    "print ('Report :\\n',metrics.classification_report(y_test, y_pred))"
   ]
  },
  {
   "cell_type": "code",
   "execution_count": 227,
   "metadata": {},
   "outputs": [
    {
     "data": {
      "image/png": "[encoded data removed]",
      "text/plain": [
       "<Figure size 720x432 with 2 Axes>"
      ]
     },
     "metadata": {
      "needs_background": "light"
     },
     "output_type": "display_data"
    }
   ],
   "source": [
    "# from the Random Forest\n",
    "\n",
    "f,ax=plt.subplots(figsize=(10,6))\n",
    "sns.heatmap(results3,annot=True,linewidth=0.5,linecolor=\"red\",fmt=\".1f\",ax=ax)\n",
    "\n",
    "bottom, top = ax.get_ylim()\n",
    "ax.set_ylim(bottom + 0.5, top - 0.51)\n",
    "ax.set_title('40% Split Random Forest Heatmap')\n",
    "\n",
    "plt.show()"
   ]
  },
  {
   "cell_type": "markdown",
   "metadata": {},
   "source": [
    "## Up-Sampling the minority classes as a solution \n",
    "#### \"Up-sampling is the process of randomly duplicating observations from the minority class in order to reinforce its signal.\"\n",
    "#### with help from [elite data science website](https://elitedatascience.com/imbalanced-classes)\n"
   ]
  },
  {
   "cell_type": "code",
   "execution_count": 228,
   "metadata": {},
   "outputs": [
    {
     "data": {
      "text/plain": [
       "4    12544\n",
       "3      872\n",
       "5      243\n",
       "0       34\n",
       "2       20\n",
       "1        2\n",
       "Name: average_rating, dtype: int64"
      ]
     },
     "execution_count": 228,
     "metadata": {},
     "output_type": "execute_result"
    }
   ],
   "source": [
    "# current calsses value count\n",
    "reads['average_rating'].value_counts()"
   ]
  },
  {
   "cell_type": "code",
   "execution_count": 229,
   "metadata": {},
   "outputs": [],
   "source": [
    "class0=reads[reads['average_rating']==0]\n",
    "class1=reads[reads['average_rating']==1]\n",
    "class2=reads[reads['average_rating']==2]\n",
    "class3=reads[reads['average_rating']==3]\n",
    "class4=reads[reads['average_rating']==4]\n",
    "class5=reads[reads['average_rating']==5]"
   ]
  },
  {
   "cell_type": "code",
   "execution_count": 230,
   "metadata": {},
   "outputs": [],
   "source": [
    "from sklearn.utils import resample\n",
    "# up sampeling to 4000 resamples for minority classes \n",
    "\n",
    "df_minority_upsampled0 = resample(class0, \n",
    "                                 replace=True,     # sample with replacement\n",
    "                                 n_samples=4000,    # to match majority class\n",
    "                                 random_state=123) # reproducible results\n",
    "\n",
    "df_minority_upsampled1 = resample(class1, \n",
    "                                 replace=True,     # sample with replacement\n",
    "                                 n_samples=4000,    # to match majority class\n",
    "                                 random_state=123) # reproducible results\n",
    "\n",
    "df_minority_upsampled2 = resample(class2, \n",
    "                                 replace=True,     # sample with replacement\n",
    "                                 n_samples=4000,    # to match majority class\n",
    "                                 random_state=123) # reproducible results\n",
    "\n",
    "df_minority_upsampled3 = resample(class3, \n",
    "                                 replace=True,     # sample with replacement\n",
    "                                 n_samples=4000,    # to match majority class\n",
    "                                 random_state=123) # reproducible results\n",
    "\n",
    "df_minority_upsampled5 = resample(class5, \n",
    "                                 replace=True,     # sample with replacement\n",
    "                                 n_samples=4000,    # to match majority class\n",
    "                                 random_state=123) # reproducible results\n",
    "\n",
    "df_upsampled = pd.concat([class4, df_minority_upsampled0, df_minority_upsampled1, df_minority_upsampled2, df_minority_upsampled3\n",
    "                         , df_minority_upsampled5])\n",
    " "
   ]
  },
  {
   "cell_type": "code",
   "execution_count": 231,
   "metadata": {},
   "outputs": [
    {
     "data": {
      "text/plain": [
       "4    12544\n",
       "5     4000\n",
       "3     4000\n",
       "2     4000\n",
       "1     4000\n",
       "0     4000\n",
       "Name: average_rating, dtype: int64"
      ]
     },
     "execution_count": 231,
     "metadata": {},
     "output_type": "execute_result"
    }
   ],
   "source": [
    "df_upsampled['average_rating'].value_counts()"
   ]
  },
  {
   "cell_type": "markdown",
   "metadata": {},
   "source": [
    "## KNN after re-sampling"
   ]
  },
  {
   "cell_type": "code",
   "execution_count": 232,
   "metadata": {},
   "outputs": [
    {
     "name": "stdout",
     "output_type": "stream",
     "text": [
      "(22780, 33) (22780,)\n",
      "(9764, 33) (9764,)\n"
     ]
    }
   ],
   "source": [
    "y= df_upsampled['average_rating']\n",
    "X= df_upsampled.drop(['average_rating'],axis = 1)\n",
    "\n",
    "X_train, X_test, y_train, y_test = train_test_split(X, y, test_size=0.3, random_state=1995)\n",
    "\n",
    "print (X_train.shape, y_train.shape)\n",
    "print (X_test.shape, y_test.shape)"
   ]
  },
  {
   "cell_type": "code",
   "execution_count": 233,
   "metadata": {},
   "outputs": [],
   "source": [
    "k_range = range(1,26)\n",
    "scores = {}\n",
    "scores_list = []\n",
    "for k in k_range:\n",
    "    knn = KNeighborsClassifier(n_neighbors=k)\n",
    "    knn.fit(X_train,y_train)\n",
    "    y_pred = knn.predict(X_test)\n",
    "    scores[k] = metrics.accuracy_score(y_test,y_pred)\n",
    "    scores_list.append(metrics.accuracy_score(y_test,y_pred))"
   ]
  },
  {
   "cell_type": "code",
   "execution_count": 234,
   "metadata": {},
   "outputs": [
    {
     "data": {
      "text/plain": [
       "0.8867267513314215"
      ]
     },
     "execution_count": 234,
     "metadata": {},
     "output_type": "execute_result"
    },
    {
     "data": {
      "image/png": "[encoded data removed]",
      "text/plain": [
       "<Figure size 432x288 with 1 Axes>"
      ]
     },
     "metadata": {
      "needs_background": "light"
     },
     "output_type": "display_data"
    }
   ],
   "source": [
    "plt.plot(k_range,scores_list)\n",
    "plt.xlabel('Value of K for KNN')\n",
    "plt.ylabel('Testing Accuracy')\n",
    "plt.title('The relationship between K and the testing accuracy')\n",
    "scores[5]"
   ]
  },
  {
   "cell_type": "code",
   "execution_count": 235,
   "metadata": {},
   "outputs": [
    {
     "name": "stdout",
     "output_type": "stream",
     "text": [
      "Accuracy Score : 0.8867267513314215\n",
      "\n",
      "Confusion Matrix :\n",
      " [[1167    0    0    0    0    0]\n",
      " [   0 1231    0    0    0    0]\n",
      " [   0    0 1176    0    0    0]\n",
      " [   3    0    2  908  319   13]\n",
      " [  14    3    7  562 2969  180]\n",
      " [   3    0    0    0    0 1207]]\n",
      "\n",
      "Report :\n",
      "               precision    recall  f1-score   support\n",
      "\n",
      "           0       0.98      1.00      0.99      1167\n",
      "           1       1.00      1.00      1.00      1231\n",
      "           2       0.99      1.00      1.00      1176\n",
      "           3       0.62      0.73      0.67      1245\n",
      "           4       0.90      0.79      0.85      3735\n",
      "           5       0.86      1.00      0.92      1210\n",
      "\n",
      "    accuracy                           0.89      9764\n",
      "   macro avg       0.89      0.92      0.90      9764\n",
      "weighted avg       0.89      0.89      0.89      9764\n",
      "\n"
     ]
    }
   ],
   "source": [
    "knn = KNeighborsClassifier(n_neighbors=5)\n",
    "knn.fit(X_train,y_train)\n",
    "y_pred = knn.predict(X_test)\n",
    "\n",
    "results4 = confusion_matrix(y_test, y_pred)\n",
    "\n",
    "print ('Accuracy Score :',metrics.accuracy_score(y_test, y_pred))\n",
    "\n",
    "print ('\\nConfusion Matrix :\\n',results4)\n",
    "\n",
    "print ('\\nReport :\\n',metrics.classification_report(y_test, y_pred))"
   ]
  },
  {
   "cell_type": "code",
   "execution_count": 236,
   "metadata": {},
   "outputs": [
    {
     "data": {
      "image/png": "[encoded data removed]",
      "text/plain": [
       "<Figure size 720x432 with 2 Axes>"
      ]
     },
     "metadata": {
      "needs_background": "light"
     },
     "output_type": "display_data"
    }
   ],
   "source": [
    "f,ax=plt.subplots(figsize=(10,6))\n",
    "sns.heatmap(results4,annot=True,linewidth=0.5,linecolor=\"red\",fmt=\".1f\",ax=ax)\n",
    "\n",
    "bottom, top = ax.get_ylim()\n",
    "ax.set_ylim(bottom + 0.5, top - 0.51)\n",
    "ax.set_title('20%-Split KNN-Up Scale Heatmap')\n",
    "\n",
    "plt.show()"
   ]
  },
  {
   "cell_type": "raw",
   "metadata": {},
   "source": [
    "After up scaling our model produced higer macro avg measurements in all aspects compared to non-up scaled model\n",
    "\n",
    "Up Scaled Model\n",
    "accuracy                             0.89      9763\n",
    "             precision   recall  f1-score     support\n",
    " macro avg       0.89      0.92      0.91      9763\n",
    "weighted avg     0.90      0.89      0.89      9763\n",
    "\n",
    "Non-Up Scaled Model\n",
    "accuracy                             0.91      2743\n",
    "  macro avg      0.16      0.17      0.16      2743\n",
    "weighted avg     0.83      0.91      0.87      2743"
   ]
  },
  {
   "cell_type": "code",
   "execution_count": null,
   "metadata": {},
   "outputs": [],
   "source": []
  }
 ],
 "metadata": {
  "kernelspec": {
   "display_name": "Python 3",
   "language": "python",
   "name": "python3"
  },
  "language_info": {
   "codemirror_mode": {
    "name": "ipython",
    "version": 3
   },
   "file_extension": ".py",
   "mimetype": "text/x-python",
   "name": "python",
   "nbconvert_exporter": "python",
   "pygments_lexer": "ipython3",
   "version": "3.7.4"
  }
 },
 "nbformat": 4,
 "nbformat_minor": 2
}
